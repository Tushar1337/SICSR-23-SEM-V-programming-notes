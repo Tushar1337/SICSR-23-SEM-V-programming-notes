{
 "cells": [
  {
   "cell_type": "code",
   "execution_count": 1,
   "id": "9ad55225",
   "metadata": {},
   "outputs": [],
   "source": [
    "import numpy as np\n"
   ]
  },
  {
   "cell_type": "code",
   "execution_count": 2,
   "id": "6918f883",
   "metadata": {},
   "outputs": [],
   "source": [
    "a = np.array([1, 2, 3, 4])  # 1d array\n"
   ]
  },
  {
   "cell_type": "code",
   "execution_count": 3,
   "id": "29bf6930",
   "metadata": {},
   "outputs": [],
   "source": [
    "b = np.array([[1, 2, 3, 4], [1, 2, 4, 5]])  # 2d array"
   ]
  },
  {
   "cell_type": "code",
   "execution_count": 4,
   "id": "2e796d42",
   "metadata": {},
   "outputs": [],
   "source": [
    "c = np.array([[[1, 2, 3, 4], [1, 2, 'er', 5]], [[1, 2, 3, 4], [1, 2, 4, 5]]])  # 3d array"
   ]
  },
  {
   "cell_type": "code",
   "execution_count": 5,
   "id": "d4578715",
   "metadata": {},
   "outputs": [],
   "source": [
    "d = np.zeros(3)  # using np.zeros function which creates arrays filled with elements as zeros"
   ]
  },
  {
   "cell_type": "code",
   "execution_count": 6,
   "id": "a6d2f713",
   "metadata": {},
   "outputs": [],
   "source": [
    "e = np.zeros((3, 3))\n",
    "f = np.zeros((3, 3, 3))"
   ]
  },
  {
   "cell_type": "code",
   "execution_count": 7,
   "id": "4f669865",
   "metadata": {},
   "outputs": [
    {
     "name": "stdout",
     "output_type": "stream",
     "text": [
      "1\n",
      "2\n",
      "er\n",
      "3\n",
      "1\n",
      "2\n",
      "3\n"
     ]
    }
   ],
   "source": [
    "print(a.ndim)\n",
    "print(b.ndim)\n",
    "print(c[0, 1, 2])  # print third element of second column (still not clear)\n",
    "print(c.ndim)\n",
    "print(d.ndim)\n",
    "print(e.ndim)\n",
    "print(f.ndim)"
   ]
  },
  {
   "cell_type": "code",
   "execution_count": 8,
   "id": "283356af",
   "metadata": {},
   "outputs": [
    {
     "name": "stdout",
     "output_type": "stream",
     "text": [
      "er\n"
     ]
    }
   ],
   "source": [
    "print(c[0][1][2])"
   ]
  },
  {
   "cell_type": "code",
   "execution_count": null,
   "id": "ff17939b",
   "metadata": {},
   "outputs": [],
   "source": []
  }
 ],
 "metadata": {
  "kernelspec": {
   "display_name": "Python 3 (ipykernel)",
   "language": "python",
   "name": "python3"
  },
  "language_info": {
   "codemirror_mode": {
    "name": "ipython",
    "version": 3
   },
   "file_extension": ".py",
   "mimetype": "text/x-python",
   "name": "python",
   "nbconvert_exporter": "python",
   "pygments_lexer": "ipython3",
   "version": "3.9.0"
  }
 },
 "nbformat": 4,
 "nbformat_minor": 5
}
