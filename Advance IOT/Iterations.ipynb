{
 "cells": [
  {
   "cell_type": "code",
   "execution_count": 3,
   "id": "befa49d0",
   "metadata": {},
   "outputs": [],
   "source": [
    "import numpy as np"
   ]
  },
  {
   "cell_type": "code",
   "execution_count": 4,
   "id": "c36a8e69",
   "metadata": {},
   "outputs": [
    {
     "name": "stdout",
     "output_type": "stream",
     "text": [
      "[1 2 3]\n",
      "[4 5 6]\n"
     ]
    }
   ],
   "source": [
    "arr=np.array([[1,2,3],[4,5,6]])\n",
    "\n",
    "for x in arr:\n",
    "    print(x)"
   ]
  },
  {
   "cell_type": "code",
   "execution_count": 5,
   "id": "0a24a25c",
   "metadata": {},
   "outputs": [
    {
     "name": "stdout",
     "output_type": "stream",
     "text": [
      "1\n",
      "2\n",
      "3\n",
      "4\n",
      "5\n",
      "6\n"
     ]
    }
   ],
   "source": [
    "for x in arr:\n",
    "    for j in x:\n",
    "        print(j)"
   ]
  },
  {
   "cell_type": "code",
   "execution_count": 11,
   "id": "03046c3c",
   "metadata": {},
   "outputs": [
    {
     "name": "stdout",
     "output_type": "stream",
     "text": [
      "1 is present at 1th element of 1 array of 1 array\n",
      "2 is present at 1th element of 1 array of 2 array\n",
      "3 is present at 1th element of 1 array of 3 array\n",
      "4 is present at 1th element of 2 array of 4 array\n",
      "5 is present at 1th element of 2 array of 5 array\n",
      "6 is present at 1th element of 2 array of 6 array\n",
      "7 is present at 2th element of 3 array of 7 array\n",
      "8 is present at 2th element of 3 array of 8 array\n",
      "9 is present at 2th element of 3 array of 9 array\n",
      "10 is present at 2th element of 4 array of 10 array\n",
      "11 is present at 2th element of 4 array of 11 array\n",
      "12 is present at 2th element of 4 array of 12 array\n"
     ]
    }
   ],
   "source": [
    "#we have 3-D array we just need one element and it's index\n",
    "\n",
    "arrSearch=np.array([[[1,2,3],[4,5,6]],[[7,8,9],[10,11,12]]])\n",
    "a=0\n",
    "b=0\n",
    "c=0\n",
    "for i in arrSearch:\n",
    "    a=a+1\n",
    "    for j in i:\n",
    "        b=b+1\n",
    "        for k in j:\n",
    "            c=c+1\n",
    "            print(\"%d is present at %dth element of %d array of %d array\"%(k,a,b,c))"
   ]
  },
  {
   "cell_type": "code",
   "execution_count": 6,
   "id": "e47d2c2c",
   "metadata": {},
   "outputs": [],
   "source": [
    "#3-D array with index for each element"
   ]
  },
  {
   "cell_type": "code",
   "execution_count": 7,
   "id": "f6ad2203",
   "metadata": {},
   "outputs": [
    {
     "name": "stdout",
     "output_type": "stream",
     "text": [
      "1\n",
      "2\n",
      "3\n",
      "4\n",
      "5\n",
      "6\n"
     ]
    }
   ],
   "source": [
    "for x in np.nditer(arr):   # converts all elements in 1-D array and remove other square brackets\n",
    "    print(x)"
   ]
  },
  {
   "cell_type": "code",
   "execution_count": 8,
   "id": "6afe20f3",
   "metadata": {},
   "outputs": [],
   "source": [
    "## CONCATENATION"
   ]
  },
  {
   "cell_type": "code",
   "execution_count": 11,
   "id": "b85e21f0",
   "metadata": {},
   "outputs": [],
   "source": [
    "arr1=np.array([[1,2,3],[4,5,6]])"
   ]
  },
  {
   "cell_type": "code",
   "execution_count": 10,
   "id": "66f8f7e4",
   "metadata": {},
   "outputs": [],
   "source": [
    "arr2=np.array([[7,8,9],[10,11,12]])"
   ]
  },
  {
   "cell_type": "code",
   "execution_count": 16,
   "id": "23b68a8b",
   "metadata": {},
   "outputs": [
    {
     "name": "stdout",
     "output_type": "stream",
     "text": [
      "[[ 1  2  3  7  8  9]\n",
      " [ 4  5  6 10 11 12]]\n"
     ]
    }
   ],
   "source": [
    "arr = np.concatenate((arr1,arr2),axis=1) # replace concatenate with stack\n",
    "print(arr)"
   ]
  },
  {
   "cell_type": "code",
   "execution_count": 17,
   "id": "4cecd090",
   "metadata": {},
   "outputs": [
    {
     "name": "stdout",
     "output_type": "stream",
     "text": [
      "[1 2 3 4 5 6]\n"
     ]
    }
   ],
   "source": [
    "arr1=np.array([1,2,3]) # Heap Stack \n",
    "arr2=np.array([4,5,6])\n",
    "arr=np.hstack((arr1,arr2)) # Replace h with v for vertical stacking\n",
    "print(arr)"
   ]
  },
  {
   "cell_type": "code",
   "execution_count": 18,
   "id": "e7e85f46",
   "metadata": {},
   "outputs": [
    {
     "name": "stdout",
     "output_type": "stream",
     "text": [
      "[[1 4]\n",
      " [2 5]\n",
      " [3 6]]\n"
     ]
    }
   ],
   "source": [
    "arr = np.stack((arr1,arr2),axis=1) # replace concatenate with stack\n",
    "print(arr)"
   ]
  },
  {
   "cell_type": "code",
   "execution_count": null,
   "id": "3d34b7b4",
   "metadata": {},
   "outputs": [],
   "source": []
  }
 ],
 "metadata": {
  "kernelspec": {
   "display_name": "Python 3 (ipykernel)",
   "language": "python",
   "name": "python3"
  },
  "language_info": {
   "codemirror_mode": {
    "name": "ipython",
    "version": 3
   },
   "file_extension": ".py",
   "mimetype": "text/x-python",
   "name": "python",
   "nbconvert_exporter": "python",
   "pygments_lexer": "ipython3",
   "version": "3.9.0"
  }
 },
 "nbformat": 4,
 "nbformat_minor": 5
}
