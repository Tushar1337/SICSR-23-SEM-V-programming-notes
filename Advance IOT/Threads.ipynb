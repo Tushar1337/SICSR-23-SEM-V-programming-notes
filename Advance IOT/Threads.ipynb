{
 "cells": [
  {
   "cell_type": "code",
   "execution_count": null,
   "id": "aa795290",
   "metadata": {},
   "outputs": [],
   "source": [
    "#Server side program\n",
    "import socket\n",
    "from _thread import *\n",
    "import threading\n",
    "\n",
    "print_lock = threading.Lock()\n",
    "\n",
    "def threaded(c):\n",
    "    while True:\n",
    "        data = c.recv(1024)\n",
    "        if not data:\n",
    "            print('Bye')\n",
    "            print_lock.release()\n",
    "            break\n",
    "        data = data[::-1]\n",
    "        c.send(data)\n",
    "    c.close()\n",
    "    \n",
    "def Main():\n",
    "    host=\"\"\n",
    "    port=12345\n",
    "    s=socket.socket(socket.AF_INET, socket.SOCK_STREAM)\n",
    "    s.bind((host,port))\n",
    "    print(\"Socket binded to the port\",port)\n",
    "    \n",
    "    s.listen(5)\n",
    "    print(\"socket is listening\")\n",
    "    while True:\n",
    "        c, addr = s.accept()\n",
    "        print_lock.acquire()\n",
    "        print('Connected to:',addr[0],':',addr[1])\n",
    "        start_new_thread(threaded,(c,))\n",
    "    s.close()\n",
    "    \n",
    "if __name__=='__main__':\n",
    "    Main()"
   ]
  },
  {
   "cell_type": "code",
   "execution_count": null,
   "id": "9e4debe9",
   "metadata": {},
   "outputs": [],
   "source": [
    "#Client Program\n",
    "\n",
    "import socket\n",
    "def Main():\n",
    "    host = '127.0.0.1'\n",
    "    port = 12345\n",
    "    s=socket.socket(socket.AF_INET, socket.SOCK_STREAM)\n",
    "    s.connect((host,port))\n",
    "    message = \"Symbi\"\n",
    "    while True:\n",
    "        s.send(message.encode('ascii'))\n",
    "        data=s.recv(1024)\n",
    "        print('Received from the server :',str(data.decode('ascii')))\n",
    "        ans = input('\\nDo you want to continue?(y/n) :')\n",
    "        if ans=='y':\n",
    "            continue\n",
    "        else:\n",
    "            break\n",
    "    s.close()\n",
    "if __name__=='__main__':\n",
    "    Main()"
   ]
  }
 ],
 "metadata": {
  "kernelspec": {
   "display_name": "Python 3 (ipykernel)",
   "language": "python",
   "name": "python3"
  },
  "language_info": {
   "codemirror_mode": {
    "name": "ipython",
    "version": 3
   },
   "file_extension": ".py",
   "mimetype": "text/x-python",
   "name": "python",
   "nbconvert_exporter": "python",
   "pygments_lexer": "ipython3",
   "version": "3.9.0"
  }
 },
 "nbformat": 4,
 "nbformat_minor": 5
}
