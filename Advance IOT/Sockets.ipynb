{
 "cells": [
  {
   "cell_type": "code",
   "execution_count": 1,
   "id": "f1741200",
   "metadata": {},
   "outputs": [],
   "source": [
    "##TCP/Ip protocol for communication b/w server and client"
   ]
  },
  {
   "cell_type": "code",
   "execution_count": 2,
   "id": "0345a5cc",
   "metadata": {},
   "outputs": [],
   "source": [
    "# socket can be encrypted two ways - stream(text) or figure(image)"
   ]
  },
  {
   "cell_type": "markdown",
   "id": "9a4bf6d9",
   "metadata": {},
   "source": [
    "# PROTOCOLS"
   ]
  },
  {
   "cell_type": "markdown",
   "id": "27ef6540",
   "metadata": {},
   "source": [
    "\"\"\"\"\"\n",
    "\n",
    "Protocols are set of rules\n",
    "\n",
    "host name - name of the sender\n",
    "\n",
    "while communication we need sender IP, receiver IP and next IP\n",
    "\n",
    "Port- \n",
    "\n",
    "s.bind() - hostname, port number - to transmit data\n",
    "s.listen() - to acknowledge receiving of data\n",
    "s.accept() - to receive data or block the data\n",
    "s.connect()- used to connect to TCP\n",
    "\n",
    "\n",
    "\"\"\"\"\""
   ]
  },
  {
   "cell_type": "markdown",
   "id": "e2a3192d",
   "metadata": {},
   "source": [
    "# Server Program"
   ]
  },
  {
   "cell_type": "code",
   "execution_count": 2,
   "id": "03aac53f",
   "metadata": {},
   "outputs": [],
   "source": [
    "import socket"
   ]
  },
  {
   "cell_type": "code",
   "execution_count": 3,
   "id": "a4234b17",
   "metadata": {},
   "outputs": [],
   "source": [
    "s=socket.socket()\n",
    "host=socket.gethostname()"
   ]
  },
  {
   "cell_type": "code",
   "execution_count": 4,
   "id": "3f07bcee",
   "metadata": {},
   "outputs": [],
   "source": [
    "port=12345\n",
    "s.bind((host,port))\n"
   ]
  },
  {
   "cell_type": "code",
   "execution_count": 5,
   "id": "3b49585c",
   "metadata": {},
   "outputs": [],
   "source": [
    "s.listen(5)"
   ]
  },
  {
   "cell_type": "code",
   "execution_count": null,
   "id": "b10f7cc4",
   "metadata": {},
   "outputs": [],
   "source": [
    "while True:\n",
    "    s.addr=s.accept()\n",
    "    print(\"Connected\")\n",
    "    s.send(\"Thank you\")\n",
    "    s.close()"
   ]
  },
  {
   "cell_type": "code",
   "execution_count": null,
   "id": "7e2a42eb",
   "metadata": {},
   "outputs": [],
   "source": [
    "import socket\n",
    "import sys\n",
    "\n",
    "try:\n",
    "    s=socket.socket(socket.AF_INET, socket.SOCK_STREAM) #socket.AF_INET = to initialise the socket; socket.SOCK_STREAM= to transmit data and not diagram\n",
    "    print(\"Socket successfully created\")\n",
    "except socket.error as err:\n",
    "    print(\"Socket Creation failed with error %s\"%(err))\n",
    "port = 800\n",
    "try:\n",
    "    host_ip = socket.gethostbyname('www.google.com')\n",
    "    \n",
    "except socket.gaierror:\n",
    "    print(\"there was an error resolving the error\")\n",
    "    sys.exit()\n",
    "    \n",
    "#connecting to the server\n",
    "s.connect((host_ip, port))\n",
    "print(\"The socket has successfully connected to google\")\n",
    "\n",
    "\"\"\"\n",
    "OUTPUT\n",
    "=======\n",
    "\n",
    "= RESTART: C:/Users/Sajtakshi/AppData/Local/Programs/Python/Python39/server.py =\n",
    "Socket successfully created\n",
    "Traceback (most recent call last):\n",
    "  File \"C:/Users/Sajtakshi/AppData/Local/Programs/Python/Python39/server.py\", line 18, in <module>\n",
    "    s.connect((host_ip, port))\n",
    "TimeoutError: [WinError 10060] A connection attempt failed because the connected party did not properly respond after a period of time, or established connection failed because connected host has failed to respond\n",
    ">>>\n",
    "\n",
    "\n",
    "##We need django to resolve the error\"\"\""
   ]
  },
  {
   "cell_type": "code",
   "execution_count": null,
   "id": "74415fc3",
   "metadata": {},
   "outputs": [],
   "source": [
    "import socket\n",
    "s=socket.socket()\n",
    "print(\"Socket successfully created\")\n",
    "    \n",
    "port=12345\n",
    "s.bind(('',port))\n",
    "print(\"the socket binded to %s\"%(port))\n",
    "\n",
    "s.listen(5)\n",
    "print(\"Socket is listening\")\n",
    "while True:\n",
    "    c, addr = s.accept()\n",
    "    print(\"Got connection from\", addr)\n",
    "    c.send('Thank you for connecting'.encode())\n",
    "    c.close()"
   ]
  },
  {
   "cell_type": "markdown",
   "id": "5b0db84d",
   "metadata": {},
   "source": [
    "# Client Program"
   ]
  },
  {
   "cell_type": "code",
   "execution_count": null,
   "id": "2fc83c74",
   "metadata": {},
   "outputs": [],
   "source": [
    "import socket\n",
    "s=socket.socket()\n",
    "host = socket.gethostname()\n",
    "port = 12345\n",
    "s.connect((host,port))\n",
    "print(s.recv(1024))\n",
    "s.close"
   ]
  },
  {
   "cell_type": "code",
   "execution_count": null,
   "id": "aecca44b",
   "metadata": {},
   "outputs": [],
   "source": [
    "import socket\n",
    "\n",
    "s=socket.socket()\n",
    "port=12345\n",
    "\n",
    "s.connect(('127.0.0.1',port))\n",
    "print(s.recv(1024).decode())\n",
    "s.close()"
   ]
  }
 ],
 "metadata": {
  "kernelspec": {
   "display_name": "Python 3 (ipykernel)",
   "language": "python",
   "name": "python3"
  },
  "language_info": {
   "codemirror_mode": {
    "name": "ipython",
    "version": 3
   },
   "file_extension": ".py",
   "mimetype": "text/x-python",
   "name": "python",
   "nbconvert_exporter": "python",
   "pygments_lexer": "ipython3",
   "version": "3.9.0"
  }
 },
 "nbformat": 4,
 "nbformat_minor": 5
}
